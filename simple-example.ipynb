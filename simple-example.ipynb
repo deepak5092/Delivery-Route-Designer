{
 "cells": [
  {
   "cell_type": "markdown",
   "metadata": {},
   "source": [
    "An example"
   ]
  },
  {
   "cell_type": "markdown",
   "metadata": {},
   "source": [
    "I have copied most of the following from https://github.com/benalexkeen/Introduction-to-linear-programming/blob/master/Introduction%20to%20Linear%20Programming%20with%20Python%20-%20Part%202.ipynb"
   ]
  },
  {
   "cell_type": "markdown",
   "metadata": {
    "tags": []
   },
   "source": [
    "# The LP problem:\n",
    "\n",
    "Maximize  $8 r1 + 9 r2 + 4 r3 + 1 r4+ 3r5+7r6+10r7+4r8+8r1+6r2+9r3+10r4+3r5+1r6+2r7+6r8-4.65r2-3.65r3+2.77r4-1r5-2.51r6-5.02r7-1.71r8$\n",
    "\n",
    "Subject to \n",
    "\n",
    "$ 1.93 r1+ 4.65 r2 + 3.65r3  +2.77r4+1r5 +2.51r6+5.02r7+1.71r8 <= 15$\n",
    "\n",
    "$8 r1+ 9 r2+ 4r3  +1r4+3r5 +7r6+10r7+4r8 <= 35$\n",
    "\n",
    "$8r1+6 r2+9r3  +10r4+3r5 +1r6+2r7+6r8 <= 60$\n",
    "\n",
    "$-8r1-6 r2-9r3  -10r4-3r5 -1r6-2r7-6r 8 <= -20$\n",
    " \n",
    "$   r1+ r2+r3  +r4+r5 +r6+r7+r8 <= 6$\n",
    " \n",
    "$ -r1- r2-r3  -r4-r6-r7-r8 >= -2$\n",
    " \n",
    "$        r1 <= 1\n",
    " r2 <= 1\n",
    "    r3 <= 1\n",
    "  r4 <= 1\n",
    "                    r5 <= 1\n",
    "                   r6 <= 1\n",
    "                    r7 <= 1\n",
    "                   r8 <= 1\n",
    "                    r1, r2,r3  ,r4,r5 ,r6,r7,r8 >= 0$"
   ]
  },
  {
   "cell_type": "markdown",
   "metadata": {},
   "source": [
    "In order to use the PuLP library, we need to install it (once), and then import it (every time)."
   ]
  },
  {
   "cell_type": "code",
   "execution_count": 4,
   "metadata": {},
   "outputs": [
    {
     "name": "stdout",
     "output_type": "stream",
     "text": [
      "Requirement already satisfied: pulp in /opt/conda/lib/python3.10/site-packages (2.6.0)\n"
     ]
    }
   ],
   "source": [
    "import sys\n",
    "!{sys.executable} -m pip install pulp "
   ]
  },
  {
   "cell_type": "code",
   "execution_count": 5,
   "metadata": {},
   "outputs": [],
   "source": [
    "import pulp"
   ]
  },
  {
   "cell_type": "code",
   "execution_count": 6,
   "metadata": {},
   "outputs": [],
   "source": [
    "# Create a LP Minimization problem \n",
    "Lp_prob = pulp.LpProblem('Delivery_Route_Designer', pulp.LpMaximize)"
   ]
  },
  {
   "cell_type": "markdown",
   "metadata": {},
   "source": [
    "Here we set up the problem:\n",
    "\n",
    "`pulp.LpProblem()`: pulp is the package, `pulp.LpProblem(...)` means we are using the command `LpProblem` that belongs to the pulp package.\n",
    "\n",
    "`pulp.LpMaximize`: we are using the object `LpMaximize` from the pulp package. You should use `pulp.LpMinimize` if you have a minimization problem.\n",
    "\n",
    "Here `My_LP_Problem` is the name of the problem which shows up when we display the problem. We used `_` as spaces are not permitted in the name.\n",
    "\n",
    "Finally, the variable `Lp_prob` is an object of type `pulp.LpProblem`, defining the LP problem."
   ]
  },
  {
   "cell_type": "code",
   "execution_count": 11,
   "metadata": {},
   "outputs": [],
   "source": [
    "# Create problem Decision Variables  \n",
    "a = pulp.LpVariable(\"r1\") \n",
    "b = pulp.LpVariable(\"r2\") \n",
    "c = pulp.LpVariable(\"r3\")\n",
    "d = pulp.LpVariable(\"r4\")\n",
    "e = pulp.LpVariable(\"r5\")\n",
    "f = pulp.LpVariable(\"r6\")\n",
    "g = pulp.LpVariable(\"r7\")\n",
    "h = pulp.LpVariable(\"r8\")\n",
    "\n"
   ]
  },
  {
   "cell_type": "markdown",
   "metadata": {},
   "source": [
    "We used the LpVariable class.\n",
    "\n",
    "Lower and Upper bounds can be assigned using the 'lowBound' and 'upBound' parameter instead. For example,\n",
    "```python\n",
    "# This code is not executed by the program because it is inside a Markdown cell\n",
    "x = pulp.LpVariable(\"x\", lowBound = 0)   # Create a variable x >= 0 \n",
    "y = pulp.LpVariable(\"y\", upBound = 10)   # Create a variable y <= 10 \n",
    "```"
   ]
  },
  {
   "cell_type": "markdown",
   "metadata": {},
   "source": [
    "We now set up our LP problem. "
   ]
  },
  {
   "cell_type": "code",
   "execution_count": 44,
   "metadata": {},
   "outputs": [],
   "source": [
    "# We put objective function first then constraints.\n",
    "\n",
    "# Objective Function \n",
    "Lp_prob += 8 *a+ 9 *b+ 4*c  +1*d+3*e +7*f+10*g+4*h + 8*a+6* b+9*c  +10*d+3*e +1*f+2*g+6*h -  1.93* a- 4.65* b - 3.65*c  -2.77*d-1*e -2.51*f-5.02*g-1.71*h \n",
    "\n",
    "# Constraints: \n",
    "Lp_prob += 1.93* a+ 4.65 *b + 3.65*c  +2.77*d+1*e +2.51*f+5.02*g+1.71*h <= 15\n",
    "Lp_prob +=  8 *a+ 9 *b+ 4*c  +1*d+3*e +7*f+10*g+4*h <= 35\n",
    "Lp_prob += 8*a+6 *b+9*c  +10*d+3*e +1*f+2*g+6*h <= 60\n",
    "Lp_prob += 8*a+6 *b+9*c  +10*d+3*e +1*f+2*g+6*h >= 20\n",
    "Lp_prob += a+ b+c  +d+e +f+g+h <= 6\n",
    "Lp_prob += a+ b+c  +d+f+g+h >= 2\n",
    "Lp_prob += a<=1\n",
    "Lp_prob += b<=1\n",
    "Lp_prob += c<=1\n",
    "Lp_prob += d<=1\n",
    "Lp_prob += e<=1\n",
    "Lp_prob += f<=1\n",
    "Lp_prob += g<=1\n",
    "Lp_prob += h<=1\n",
    "Lp_prob += a>=0\n",
    "Lp_prob += b>=0\n",
    "Lp_prob += c>=0\n",
    "Lp_prob += d>=0\n",
    "Lp_prob += e>=0\n",
    "Lp_prob += f>=0\n",
    "Lp_prob += g>=0\n",
    "Lp_prob += h>=0\n",
    "\n"
   ]
  },
  {
   "cell_type": "markdown",
   "metadata": {},
   "source": [
    "The objective function and constraints are added using the `+=` operator to our model. The objective function is added first, then the individual constraints.\n",
    "\n",
    "The notation `Lp_prob += x <= 4` is equivalent to `Lp_prob = Lp_prob + x <= 4`.\n",
    "\n",
    "To avoid confusion between all operators, we can add parentheses. It's the entire inequality that we add to `Lp_prob`:\n",
    "```python\n",
    "Lp_prob += (-x + y <= 3)\n",
    "Lp_prob += (x <= 4)\n",
    "```\n",
    "From a computer science point of view, it's actually interesting to imagine how they implemented the library so that such operations would be valid syntax."
   ]
  },
  {
   "cell_type": "code",
   "execution_count": 45,
   "metadata": {},
   "outputs": [
    {
     "name": "stdout",
     "output_type": "stream",
     "text": [
      "Delivery_Route_Designer:\n",
      "MAXIMIZE\n",
      "14.07*r1 + 10.35*r2 + 9.35*r3 + 8.23*r4 + 5*r5 + 5.49*r6 + 6.98*r7 + 8.29*r8 + 0.0\n",
      "SUBJECT TO\n",
      "_C1: 1.93 r1 + 4.65 r2 + 3.65 r3 + 2.77 r4 + r5 + 2.51 r6 + 5.02 r7 + 1.71 r8\n",
      " <= 15\n",
      "\n",
      "_C2: 8 r1 + 9 r2 + 4 r3 + r4 + 3 r5 + 7 r6 + 10 r7 + 4 r8 <= 35\n",
      "\n",
      "_C3: 8 r1 + 6 r2 + 9 r3 + 10 r4 + 3 r5 + r6 + 2 r7 + 6 r8 <= 60\n",
      "\n",
      "_C4: - 8 r1 - 6 r2 - 9 r3 - 10 r4 - 3 r5 - r6 - 2 r7 - 6 r8 <= -20\n",
      "\n",
      "_C5: r1 + r2 + r3 + r4 + r5 + r6 + r7 + r8 <= 6\n",
      "\n",
      "_C6: - r1 - r2 - r3 - r4 - r6 - r7 - r8 >= -2\n",
      "\n",
      "_C7: r1 <= 1\n",
      "\n",
      "_C8: r2 <= 1\n",
      "\n",
      "_C9: r3 <= 1\n",
      "\n",
      "_C10: r4 <= 1\n",
      "\n",
      "_C11: r5 <= 1\n",
      "\n",
      "_C12: r6 <= 1\n",
      "\n",
      "_C13: r7 <= 1\n",
      "\n",
      "_C14: r8 <= 1\n",
      "\n",
      "_C15: 1.93 r1 + 4.65 r2 + 3.65 r3 + 2.77 r4 + r5 + 2.51 r6 + 5.02 r7 + 1.71 r8\n",
      " <= 15\n",
      "\n",
      "_C16: 8 r1 + 9 r2 + 4 r3 + r4 + 3 r5 + 7 r6 + 10 r7 + 4 r8 <= 35\n",
      "\n",
      "_C17: 8 r1 + 6 r2 + 9 r3 + 10 r4 + 3 r5 + r6 + 2 r7 + 6 r8 <= 60\n",
      "\n",
      "_C18: - 8 r1 - 6 r2 - 9 r3 - 10 r4 - 3 r5 - r6 - 2 r7 - 6 r8 <= -20\n",
      "\n",
      "_C19: r1 + r2 + r3 + r4 + r5 + r6 + r7 + r8 <= 6\n",
      "\n",
      "_C20: - r1 - r2 - r3 - r4 - r6 - r7 - r8 >= -2\n",
      "\n",
      "_C21: r1 <= 1\n",
      "\n",
      "_C22: r2 <= 1\n",
      "\n",
      "_C23: r3 <= 1\n",
      "\n",
      "_C24: r4 <= 1\n",
      "\n",
      "_C25: r5 <= 1\n",
      "\n",
      "_C26: r6 <= 1\n",
      "\n",
      "_C27: r7 <= 1\n",
      "\n",
      "_C28: r8 <= 1\n",
      "\n",
      "_C29: r1 >= 0\n",
      "\n",
      "_C30: r1 >= 0\n",
      "\n",
      "_C31: r1 >= 0\n",
      "\n",
      "_C32: r1 >= 0\n",
      "\n",
      "_C33: r1 >= 0\n",
      "\n",
      "_C34: r1 >= 0\n",
      "\n",
      "_C35: 1.93 r1 + 4.65 r2 + 3.65 r3 + 2.77 r4 + r5 + 2.51 r6 + 5.02 r7 + 1.71 r8\n",
      " <= 15\n",
      "\n",
      "_C36: 8 r1 + 9 r2 + 4 r3 + r4 + 3 r5 + 7 r6 + 10 r7 + 4 r8 <= 35\n",
      "\n",
      "_C37: 8 r1 + 6 r2 + 9 r3 + 10 r4 + 3 r5 + r6 + 2 r7 + 6 r8 <= 60\n",
      "\n",
      "_C38: - 8 r1 - 6 r2 - 9 r3 - 10 r4 - 3 r5 - r6 - 2 r7 - 6 r8 <= -20\n",
      "\n",
      "_C39: r1 + r2 + r3 + r4 + r5 + r6 + r7 + r8 <= 6\n",
      "\n",
      "_C40: - r1 - r2 - r3 - r4 - r6 - r7 - r8 >= -2\n",
      "\n",
      "_C41: r1 <= 1\n",
      "\n",
      "_C42: r2 <= 1\n",
      "\n",
      "_C43: r3 <= 1\n",
      "\n",
      "_C44: r4 <= 1\n",
      "\n",
      "_C45: r5 <= 1\n",
      "\n",
      "_C46: r6 <= 1\n",
      "\n",
      "_C47: r7 <= 1\n",
      "\n",
      "_C48: r8 <= 1\n",
      "\n",
      "_C49: r1 >= 0\n",
      "\n",
      "_C50: r1 >= 0\n",
      "\n",
      "_C51: r1 >= 0\n",
      "\n",
      "_C52: r1 >= 0\n",
      "\n",
      "_C53: r1 >= 0\n",
      "\n",
      "_C54: r1 >= 0\n",
      "\n",
      "_C55: 1.93 r1 + 4.65 r2 + 3.65 r3 + 2.77 r4 + r5 + 2.51 r6 + 5.02 r7 + 1.71 r8\n",
      " <= 15\n",
      "\n",
      "_C56: 8 r1 + 9 r2 + 4 r3 + r4 + 3 r5 + 7 r6 + 10 r7 + 4 r8 <= 35\n",
      "\n",
      "_C57: 8 r1 + 6 r2 + 9 r3 + 10 r4 + 3 r5 + r6 + 2 r7 + 6 r8 <= 60\n",
      "\n",
      "_C58: - 8 r1 - 6 r2 - 9 r3 - 10 r4 - 3 r5 - r6 - 2 r7 - 6 r8 <= -20\n",
      "\n",
      "_C59: r1 + r2 + r3 + r4 + r5 + r6 + r7 + r8 <= 6\n",
      "\n",
      "_C60: - r1 - r2 - r3 - r4 - r6 - r7 - r8 >= -2\n",
      "\n",
      "_C61: r1 <= 1\n",
      "\n",
      "_C62: r2 <= 1\n",
      "\n",
      "_C63: r3 <= 1\n",
      "\n",
      "_C64: r4 <= 1\n",
      "\n",
      "_C65: r5 <= 1\n",
      "\n",
      "_C66: r6 <= 1\n",
      "\n",
      "_C67: r7 <= 1\n",
      "\n",
      "_C68: r8 <= 1\n",
      "\n",
      "_C69: r1 >= 0\n",
      "\n",
      "_C70: r2 >= 0\n",
      "\n",
      "_C71: r3 >= 0\n",
      "\n",
      "_C72: r4 >= 0\n",
      "\n",
      "_C73: r5 >= 0\n",
      "\n",
      "_C74: r6 >= 0\n",
      "\n",
      "_C75: r7 >= 0\n",
      "\n",
      "_C76: r8 >= 0\n",
      "\n",
      "_C77: 1.93 r1 + 4.65 r2 + 3.65 r3 + 2.77 r4 + r5 + 2.51 r6 + 5.02 r7 + 1.71 r8\n",
      " <= 15\n",
      "\n",
      "_C78: 8 r1 + 9 r2 + 4 r3 + r4 + 3 r5 + 7 r6 + 10 r7 + 4 r8 <= 35\n",
      "\n",
      "_C79: 8 r1 + 6 r2 + 9 r3 + 10 r4 + 3 r5 + r6 + 2 r7 + 6 r8 <= 60\n",
      "\n",
      "_C80: 8 r1 + 6 r2 + 9 r3 + 10 r4 + 3 r5 + r6 + 2 r7 + 6 r8 >= 20\n",
      "\n",
      "_C81: r1 + r2 + r3 + r4 + r5 + r6 + r7 + r8 <= 6\n",
      "\n",
      "_C82: r1 + r2 + r3 + r4 + r6 + r7 + r8 >= 2\n",
      "\n",
      "_C83: r1 <= 1\n",
      "\n",
      "_C84: r2 <= 1\n",
      "\n",
      "_C85: r3 <= 1\n",
      "\n",
      "_C86: r4 <= 1\n",
      "\n",
      "_C87: r5 <= 1\n",
      "\n",
      "_C88: r6 <= 1\n",
      "\n",
      "_C89: r7 <= 1\n",
      "\n",
      "_C90: r8 <= 1\n",
      "\n",
      "_C91: r1 >= 0\n",
      "\n",
      "_C92: r2 >= 0\n",
      "\n",
      "_C93: r3 >= 0\n",
      "\n",
      "_C94: r4 >= 0\n",
      "\n",
      "_C95: r5 >= 0\n",
      "\n",
      "_C96: r6 >= 0\n",
      "\n",
      "_C97: r7 >= 0\n",
      "\n",
      "_C98: r8 >= 0\n",
      "\n",
      "_C99: 1.93 r1 + 4.65 r2 + 3.65 r3 + 2.77 r4 + r5 + 2.51 r6 + 5.02 r7 + 1.71 r8\n",
      " <= 15\n",
      "\n",
      "_C100: 8 r1 + 9 r2 + 4 r3 + r4 + 3 r5 + 7 r6 + 10 r7 + 4 r8 <= 35\n",
      "\n",
      "_C101: 8 r1 + 6 r2 + 9 r3 + 10 r4 + 3 r5 + r6 + 2 r7 + 6 r8 <= 60\n",
      "\n",
      "_C102: 8 r1 + 6 r2 + 9 r3 + 10 r4 + 3 r5 + r6 + 2 r7 + 6 r8 >= 20\n",
      "\n",
      "_C103: r1 + r2 + r3 + r4 + r5 + r6 + r7 + r8 <= 6\n",
      "\n",
      "_C104: r1 + r2 + r3 + r4 + r6 + r7 + r8 >= 2\n",
      "\n",
      "_C105: r1 <= 1\n",
      "\n",
      "_C106: r2 <= 1\n",
      "\n",
      "_C107: r3 <= 1\n",
      "\n",
      "_C108: r4 <= 1\n",
      "\n",
      "_C109: r5 <= 1\n",
      "\n",
      "_C110: r6 <= 1\n",
      "\n",
      "_C111: r7 <= 1\n",
      "\n",
      "_C112: r8 <= 1\n",
      "\n",
      "_C113: r1 >= 0\n",
      "\n",
      "_C114: r2 >= 0\n",
      "\n",
      "_C115: r3 >= 0\n",
      "\n",
      "_C116: r4 >= 0\n",
      "\n",
      "_C117: r5 >= 0\n",
      "\n",
      "_C118: r6 >= 0\n",
      "\n",
      "_C119: r7 >= 0\n",
      "\n",
      "_C120: r8 >= 0\n",
      "\n",
      "_C121: 1.93 r1 + 4.65 r2 + 3.65 r3 + 2.77 r4 + r5 + 2.51 r6 + 5.02 r7\n",
      " + 1.71 r8 <= 15\n",
      "\n",
      "_C122: 8 r1 + 9 r2 + 4 r3 + r4 + 3 r5 + 7 r6 + 10 r7 + 4 r8 <= 35\n",
      "\n",
      "_C123: 8 r1 + 6 r2 + 9 r3 + 10 r4 + 3 r5 + r6 + 2 r7 + 6 r8 <= 60\n",
      "\n",
      "_C124: 8 r1 + 6 r2 + 9 r3 + 10 r4 + 3 r5 + r6 + 2 r7 + 6 r8 >= 20\n",
      "\n",
      "_C125: r1 + r2 + r3 + r4 + r5 + r6 + r7 + r8 <= 6\n",
      "\n",
      "_C126: r1 + r2 + r3 + r4 + r6 + r7 + r8 >= 2\n",
      "\n",
      "_C127: r1 <= 1\n",
      "\n",
      "_C128: r2 <= 1\n",
      "\n",
      "_C129: r3 <= 1\n",
      "\n",
      "_C130: r4 <= 1\n",
      "\n",
      "_C131: r5 <= 1\n",
      "\n",
      "_C132: r6 <= 1\n",
      "\n",
      "_C133: r7 <= 1\n",
      "\n",
      "_C134: r8 <= 1\n",
      "\n",
      "_C135: r1 >= 0\n",
      "\n",
      "_C136: r2 >= 0\n",
      "\n",
      "_C137: r3 >= 0\n",
      "\n",
      "_C138: r4 >= 0\n",
      "\n",
      "_C139: r5 >= 0\n",
      "\n",
      "_C140: r6 >= 0\n",
      "\n",
      "_C141: r7 >= 0\n",
      "\n",
      "_C142: r8 >= 0\n",
      "\n",
      "VARIABLES\n",
      "r1 free Continuous\n",
      "r2 free Continuous\n",
      "r3 free Continuous\n",
      "r4 free Continuous\n",
      "r5 free Continuous\n",
      "r6 free Continuous\n",
      "r7 free Continuous\n",
      "r8 free Continuous\n",
      "\n"
     ]
    }
   ],
   "source": [
    "# Display the problem \n",
    "print(Lp_prob)"
   ]
  },
  {
   "cell_type": "markdown",
   "metadata": {},
   "source": [
    "You realize that the inequalities are rearranged to put numbers only in the right hand side. "
   ]
  },
  {
   "cell_type": "markdown",
   "metadata": {},
   "source": [
    "We can solve this LP using the `solve()` function. Be careful, this function is a *method* of the `pulp.LpProblem` class, not a function of pulp. So writing `pulp.solve(...)` would not work."
   ]
  },
  {
   "cell_type": "code",
   "execution_count": 46,
   "metadata": {},
   "outputs": [
    {
     "name": "stdout",
     "output_type": "stream",
     "text": [
      "GLPSOL: GLPK LP/MIP Solver, v4.65\n",
      "Parameter(s) specified in the command line:\n",
      " --cpxlp /tmp/e88e3cdc6076409593abe06141b88cb4-pulp.lp -o /tmp/e88e3cdc6076409593abe06141b88cb4-pulp.sol\n",
      "Reading problem data from '/tmp/e88e3cdc6076409593abe06141b88cb4-pulp.lp'...\n",
      "142 rows, 8 columns, 429 non-zeros\n",
      "164 lines were read\n",
      "GLPK Simplex Optimizer, v4.65\n",
      "142 rows, 8 columns, 429 non-zeros\n",
      "Preprocessing...\n",
      "35 rows, 8 columns, 273 non-zeros\n",
      "Scaling...\n",
      " A: min|aij| =  1.000e+00  max|aij| =  1.000e+01  ratio =  1.000e+01\n",
      "Problem data seem to be well scaled\n",
      "Constructing initial basis...\n",
      "Size of triangular part is 35\n",
      "      0: obj =  -0.000000000e+00 inf =   1.460e+02 (10)\n",
      "      4: obj =   1.924666667e+01 inf =   0.000e+00 (0)\n",
      "*     8: obj =   2.842000000e+01 inf =   0.000e+00 (0)\n",
      "OPTIMAL LP SOLUTION FOUND\n",
      "Time used:   0.0 secs\n",
      "Memory used: 0.1 Mb (154456 bytes)\n",
      "Writing basic solution to '/tmp/e88e3cdc6076409593abe06141b88cb4-pulp.sol'...\n"
     ]
    },
    {
     "data": {
      "text/plain": [
       "1"
      ]
     },
     "execution_count": 46,
     "metadata": {},
     "output_type": "execute_result"
    }
   ],
   "source": [
    "Lp_prob.solve()  # This solves the LP problem (yes, it's that easy!)"
   ]
  },
  {
   "cell_type": "code",
   "execution_count": 47,
   "metadata": {},
   "outputs": [
    {
     "name": "stdout",
     "output_type": "stream",
     "text": [
      "1\n"
     ]
    }
   ],
   "source": [
    "print(Lp_prob.status) # This checks the status of the result... but it's not very informative."
   ]
  },
  {
   "cell_type": "code",
   "execution_count": 48,
   "metadata": {},
   "outputs": [
    {
     "name": "stdout",
     "output_type": "stream",
     "text": [
      "{0: 'Not Solved', 1: 'Optimal', -1: 'Infeasible', -2: 'Unbounded', -3: 'Undefined'}\n"
     ]
    }
   ],
   "source": [
    "# To understand it better, let's look at the mapping of status codes to status names\n",
    "print(pulp.LpStatus)"
   ]
  },
  {
   "cell_type": "markdown",
   "metadata": {},
   "source": [
    "This is what we call a dictionary. It's similar to a `std::map` for those who know C++.\n",
    "\n",
    "It has pairs of keys and values: `mydictionary = {key1: value1, key2: value2, key3: value3}`.\n",
    "\n",
    "In order to access the value associated to a certain key in a dictionary, use brackets: \n",
    "```python\n",
    "mydictionary[key1] # This gives value1\n",
    "```"
   ]
  },
  {
   "cell_type": "code",
   "execution_count": 49,
   "metadata": {},
   "outputs": [
    {
     "data": {
      "text/plain": [
       "'Optimal'"
      ]
     },
     "execution_count": 49,
     "metadata": {},
     "output_type": "execute_result"
    }
   ],
   "source": [
    "pulp.LpStatus[Lp_prob.status]"
   ]
  },
  {
   "cell_type": "markdown",
   "metadata": {},
   "source": [
    "It solved the LP problem and gave the result:\n",
    "There are 5 status codes:\n",
    "\n",
    "- Not Solved: Status prior to solving the problem.\n",
    "- Optimal: An optimal solution has been found.\n",
    "- Infeasible: There are no feasible solutions.\n",
    "- Unbounded: The constraints are not bounded, maximizing the solution will tend towards infinity.\n",
    "- Undefined: The optimal solution may exist but may not have been found.\n",
    "\n"
   ]
  },
  {
   "cell_type": "markdown",
   "metadata": {},
   "source": [
    "We can now view our optimal variable values and the optimal value of Z."
   ]
  },
  {
   "cell_type": "code",
   "execution_count": 50,
   "metadata": {},
   "outputs": [
    {
     "name": "stdout",
     "output_type": "stream",
     "text": [
      "a= 1.0 b= 0.0 c= 1.0 d= 0.0 e= 1.0 f= 0.0 g= 0.0 h= 0.0 z= 28.42\n"
     ]
    }
   ],
   "source": [
    "# Printing the final solution\n",
    "print(\"a=\", pulp.value(a), \"b=\", pulp.value(b), \"c=\", pulp.value(c),\"d=\", pulp.value(d),\"e=\", pulp.value(e),\n",
    "     \"f=\", pulp.value(f),\"g=\", pulp.value(g),\"h=\", pulp.value(h),\"z=\", pulp.value(Lp_prob.objective))"
   ]
  },
  {
   "cell_type": "markdown",
   "metadata": {},
   "source": [
    "Another way to show the solutions:"
   ]
  },
  {
   "cell_type": "code",
   "execution_count": 51,
   "metadata": {},
   "outputs": [
    {
     "name": "stdout",
     "output_type": "stream",
     "text": [
      "r1 = 1.0\n",
      "r2 = 0.0\n",
      "r3 = 1.0\n",
      "r4 = 0.0\n",
      "r5 = 1.0\n",
      "r6 = 0.0\n",
      "r7 = 0.0\n",
      "r8 = 0.0\n",
      "Optimal value is z =  28.42\n"
     ]
    }
   ],
   "source": [
    "for variable in Lp_prob.variables():\n",
    "        print(variable.name, \"=\", variable.varValue)\n",
    "print(\"Optimal value is z = \", pulp.value(Lp_prob.objective))"
   ]
  },
  {
   "cell_type": "code",
   "execution_count": 26,
   "metadata": {},
   "outputs": [
    {
     "data": {
      "text/plain": [
       "[r1, r2, r3, r4, r5, r6, r7, r8]"
      ]
     },
     "execution_count": 26,
     "metadata": {},
     "output_type": "execute_result"
    }
   ],
   "source": [
    "Lp_prob.variables()"
   ]
  },
  {
   "cell_type": "markdown",
   "metadata": {},
   "source": [
    "## Challenge for the CS majors (or anyone interested): \n",
    "\n",
    "Code a function that plots the feasible region in 2D, given a pulp.LpProblem that has 2 variables.\n",
    "\n",
    "This is probably a good start: https://benalexkeen.com/linear-programming-with-python-and-pulp-part-1/\n",
    "\n",
    "This function would prove useful to many students!"
   ]
  },
  {
   "cell_type": "code",
   "execution_count": null,
   "metadata": {},
   "outputs": [],
   "source": []
  }
 ],
 "metadata": {
  "kernelspec": {
   "display_name": "Python 3 (ipykernel)",
   "language": "python",
   "name": "python3"
  },
  "language_info": {
   "codemirror_mode": {
    "name": "ipython",
    "version": 3
   },
   "file_extension": ".py",
   "mimetype": "text/x-python",
   "name": "python",
   "nbconvert_exporter": "python",
   "pygments_lexer": "ipython3",
   "version": "3.10.6"
  }
 },
 "nbformat": 4,
 "nbformat_minor": 4
}
